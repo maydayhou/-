{
 "cells": [
  {
   "cell_type": "code",
   "execution_count": 43,
   "metadata": {},
   "outputs": [],
   "source": [
    "import numpy as numpy \n",
    "from sklearn.datasets import load_diabetes\n",
    "from sklearn.utils import shuffle\n",
    "#载入数据集\n",
    "diabetes = load_diabetes()\n",
    "data = diabetes.data\n",
    "target = diabetes.target "
   ]
  },
  {
   "cell_type": "code",
   "execution_count": 51,
   "metadata": {},
   "outputs": [],
   "source": [
    "#划分测试集和训练集 7:3 打乱数据\n",
    "X,y = shuffle(data,target,random_state=10)\n",
    "offset = int(X.shape[0]*0.7)\n",
    "X_train = X[:offset]\n",
    "y_train = y[:offset]\n",
    "X_test = X[offset:]\n",
    "y_test = y[offset:]"
   ]
  },
  {
   "cell_type": "code",
   "execution_count": 53,
   "metadata": {},
   "outputs": [
    {
     "data": {
      "text/plain": [
       "(133, 1)"
      ]
     },
     "execution_count": 53,
     "metadata": {},
     "output_type": "execute_result"
    }
   ],
   "source": [
    "# reshape((-1,1))分成n行1列的格式\n",
    "y_train = y_train.reshape((-1,1))\n",
    "y_test = y_test.reshape((-1,1))"
   ]
  },
  {
   "cell_type": "code",
   "execution_count": 80,
   "metadata": {},
   "outputs": [],
   "source": [
    "def initialize(dim):\n",
    "        w = np.zeros((dim,1))\n",
    "        b = 0\n",
    "        return w,b"
   ]
  },
  {
   "cell_type": "code",
   "execution_count": 81,
   "metadata": {},
   "outputs": [],
   "source": [
    "def loss_function(x,y,w,b):\n",
    "    y_hat = np.dot(x,w) + b\n",
    "    loss = np.sum((y_hat-y)**2)/x.shape[0]\n",
    "    dw = np.dot(x.T,y_hat-y)/x.shape[0]\n",
    "    db = np.sum((y_hat-y)) /x.shape[0]\n",
    "    return y_hat,loss,dw,db"
   ]
  },
  {
   "cell_type": "code",
   "execution_count": 79,
   "metadata": {},
   "outputs": [
    {
     "data": {
      "text/plain": [
       "40.0"
      ]
     },
     "execution_count": 79,
     "metadata": {},
     "output_type": "execute_result"
    }
   ],
   "source": [
    "x= 2*np.ones((10,1))\n",
    "w = np.zeros((10,1))\n",
    "np.sum((x-w)**2)"
   ]
  },
  {
   "cell_type": "code",
   "execution_count": 73,
   "metadata": {},
   "outputs": [
    {
     "data": {
      "text/plain": [
       "array([[ 0.01628068, -0.04464164, -0.04716281, -0.00222774, -0.01945635,\n",
       "        -0.04296262,  0.03391355, -0.03949338,  0.02736771,  0.02791705],\n",
       "       [ 0.0090156 , -0.04464164,  0.04552903,  0.0287581 ,  0.01219057,\n",
       "        -0.01383982,  0.02655027, -0.03949338,  0.04613233,  0.03620126],\n",
       "       [ 0.02717829, -0.04464164,  0.00672779,  0.03564384,  0.07961226,\n",
       "         0.07071027,  0.01550536,  0.03430886,  0.04067226,  0.01134862],\n",
       "       [ 0.07076875,  0.05068012, -0.01698407,  0.02187235,  0.04383748,\n",
       "         0.05630544,  0.03759519, -0.00259226, -0.07020931, -0.01764613],\n",
       "       [ 0.01628068,  0.05068012,  0.00996123, -0.04354219, -0.09650971,\n",
       "        -0.09463212, -0.03971921, -0.03949338,  0.01703713,  0.00720652],\n",
       "       [ 0.03444337,  0.05068012,  0.02828403, -0.03321358, -0.04559945,\n",
       "        -0.00976889, -0.05076412, -0.00259226, -0.0594727 , -0.02178823],\n",
       "       [-0.00188202,  0.05068012, -0.02452876,  0.05285819,  0.02732605,\n",
       "         0.03000097,  0.03023191, -0.00259226, -0.02139368,  0.03620126],\n",
       "       [-0.01641217,  0.05068012,  0.12744274,  0.09761551,  0.01631843,\n",
       "         0.01747503, -0.02131102,  0.03430886,  0.03486419,  0.00306441],\n",
       "       [-0.05273755,  0.05068012, -0.04069594, -0.06764228, -0.03183992,\n",
       "        -0.0370128 ,  0.03759519, -0.03949338, -0.03452372,  0.06933812],\n",
       "       [ 0.01991321, -0.04464164, -0.02345095, -0.07108515,  0.02044629,\n",
       "        -0.01008203,  0.11859122, -0.0763945 , -0.0425721 ,  0.07348023]])"
      ]
     },
     "execution_count": 73,
     "metadata": {},
     "output_type": "execute_result"
    }
   ],
   "source": [
    "def linar_train(X, y, learning_rate, epochs):\n",
    "    w,b = initialize(X.shape[1])\n",
    "    for i in range(1,epochs):\n",
    "        y_hat,loss,dw,db = loss_function(X,y,w,b)\n",
    "        w -= dw*learning_rate\n",
    "        b -= db*learning_rate\n",
    "        if i % 10000 = 0 :\n",
    "            print(\"i is %d and loss is %d\" % (i, loss))\n",
    "        param = {\n",
    "            w:w,\n",
    "            b:b\n",
    "        }\n",
    "        "
   ]
  },
  {
   "cell_type": "code",
   "execution_count": 74,
   "metadata": {},
   "outputs": [
    {
     "data": {
      "text/plain": [
       "array([[0.],\n",
       "       [0.],\n",
       "       [0.],\n",
       "       [0.],\n",
       "       [0.],\n",
       "       [0.],\n",
       "       [0.],\n",
       "       [0.],\n",
       "       [0.],\n",
       "       [0.]])"
      ]
     },
     "execution_count": 74,
     "metadata": {},
     "output_type": "execute_result"
    }
   ],
   "source": [
    "w"
   ]
  },
  {
   "cell_type": "code",
   "execution_count": null,
   "metadata": {},
   "outputs": [],
   "source": []
  }
 ],
 "metadata": {
  "kernelspec": {
   "display_name": "Python 3",
   "language": "python",
   "name": "python3"
  },
  "language_info": {
   "codemirror_mode": {
    "name": "ipython",
    "version": 3
   },
   "file_extension": ".py",
   "mimetype": "text/x-python",
   "name": "python",
   "nbconvert_exporter": "python",
   "pygments_lexer": "ipython3",
   "version": "3.6.5"
  }
 },
 "nbformat": 4,
 "nbformat_minor": 2
}
